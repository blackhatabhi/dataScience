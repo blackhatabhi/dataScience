{
 "cells": [
  {
   "cell_type": "code",
   "execution_count": 2,
   "id": "fitted-scope",
   "metadata": {},
   "outputs": [
    {
     "name": "stdout",
     "output_type": "stream",
     "text": [
      "New Scrapy project 'my_first_project', using template directory 'c:\\users\\abhin\\appdata\\local\\programs\\python\\python38-32\\lib\\site-packages\\scrapy\\templates\\project', created in:\n",
      "    C:\\Users\\abhin\\Desktop\\dataScience\\Untitled Folder\\my_first_project\n",
      "\n",
      "You can start your first spider with:\n",
      "    cd my_first_project\n",
      "    scrapy genspider example example.com\n"
     ]
    }
   ],
   "source": [
    "!scrapy startproject my_first_project"
   ]
  },
  {
   "cell_type": "code",
   "execution_count": null,
   "id": "ethical-gazette",
   "metadata": {},
   "outputs": [],
   "source": []
  }
 ],
 "metadata": {
  "kernelspec": {
   "display_name": "Python 3",
   "language": "python",
   "name": "python3"
  },
  "language_info": {
   "codemirror_mode": {
    "name": "ipython",
    "version": 3
   },
   "file_extension": ".py",
   "mimetype": "text/x-python",
   "name": "python",
   "nbconvert_exporter": "python",
   "pygments_lexer": "ipython3",
   "version": "3.8.1"
  }
 },
 "nbformat": 4,
 "nbformat_minor": 5
}
